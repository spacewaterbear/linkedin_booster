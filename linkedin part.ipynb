{
 "cells": [
  {
   "cell_type": "code",
   "execution_count": 1,
   "metadata": {},
   "outputs": [],
   "source": [
    "from datetime import datetime, timezone\n",
    "import pandas as pd\n",
    "import numpy as np\n",
    "from selenium import webdriver\n",
    "from airtable import Airtable\n",
    "from selenium.webdriver.common.keys import Keys\n",
    "from selenium.webdriver.support.ui import WebDriverWait\n",
    "from selenium.webdriver.support import expected_conditions as EC\n",
    "import time\n",
    "import random"
   ]
  },
  {
   "cell_type": "code",
   "execution_count": 2,
   "metadata": {},
   "outputs": [],
   "source": [
    "def generate_delay(mean = 0.6, sigma = 0.1, mini = 0.5):\n",
    "    \"\"\"\n",
    "    retourn un chiffre aléatoire suivant une distribution normal de moyenne 4 secondes et d'ecart-type de 0.8\n",
    "    Ce chiffre aléatoire est le délai après chaque clique. Le but est de simuler le comportement d'un humain :\n",
    "    un délai fixe peut attirer l'attention des contrôleurs, tout comme un délai aléatoire d'une distribution uniforme\n",
    "    \"\"\"\n",
    "    mean = 0.6\n",
    "    sigma = 0.1\n",
    "    delai = abs(np.random.normal(mean,sigma,1)[0])\n",
    "    while delai<mini:\n",
    "        delai = abs(np.random.normal(mean,sigma,1)[0])\n",
    "    time.sleep(delai)\n",
    "    \n",
    "    \n",
    "def click_and_delai_xpath(xpath,mean = 0.6, sigma = 0.1, mini = 0.5):\n",
    "    driver.find_element_by_xpath(xpath).click()\n",
    "    generate_delay(mean, sigma, mini)\n",
    "\n",
    "def from_cn(class_name):\n",
    "    ele_sel =  driver.find_element_by_class_name(class_name)\n",
    "    if ele_sel != None:\n",
    "        return ele_sel.text\n",
    "    else:\n",
    "        return None\n",
    "\n",
    "def is_ld_profile(url):\n",
    "    if r\".com/in/\" in url:\n",
    "        return True\n",
    "    else:\n",
    "        return False\n",
    "    \n",
    "def write_message(message):\n",
    "    text_area = driver.find_element_by_xpath('//textarea[@name=\"message\"]')\n",
    "    for letter in message:\n",
    "        time.sleep(abs(random.random()/150))  # sleep between 1 and 3 seconds\n",
    "        text_area.send_keys(letter)"
   ]
  },
  {
   "cell_type": "markdown",
   "metadata": {},
   "source": [
    "## Login"
   ]
  },
  {
   "cell_type": "code",
   "execution_count": 3,
   "metadata": {},
   "outputs": [],
   "source": [
    "airtable = Airtable(\"appsukCYzNmwFtrh9\", \"linkedin\", api_key='key1qvdsKWuaiJxKk')\n",
    "driver = webdriver.Chrome()\n",
    "driver.get(\"https://www.linkedin.com/\")\n",
    "generate_delay()"
   ]
  },
  {
   "cell_type": "code",
   "execution_count": 4,
   "metadata": {},
   "outputs": [],
   "source": [
    "driver.maximize_window()\n",
    "\n",
    "# #s'identtfier\n",
    "click_and_delai_xpath('//a[@class=\"nav__button-secondary\"]')\n",
    "generate_delay(0.2, 0.005, 0.05)\n",
    "driver.find_element_by_xpath('//input[@id=\"username\"]').send_keys('emmanuel.thiery.pro@gmail.com')\n",
    "generate_delay(0.2, 0.005, 0.05)\n",
    "driver.find_element_by_xpath('//input[@id=\"password\"]').send_keys('waitareum91')\n",
    "generate_delay(0.2, 0.005, 0.05)\n",
    "\n",
    "\n",
    "click_and_delai_xpath('//button[@type=\"submit\"]')"
   ]
  },
  {
   "cell_type": "markdown",
   "metadata": {},
   "source": [
    "\n",
    "    \n",
    "    \n",
    "### getting data"
   ]
  },
  {
   "cell_type": "code",
   "execution_count": 5,
   "metadata": {},
   "outputs": [],
   "source": [
    "# df = pd.DataFrame()"
   ]
  },
  {
   "cell_type": "code",
   "execution_count": 6,
   "metadata": {},
   "outputs": [],
   "source": [
    "# def get_position_company():\n",
    "#     try:\n",
    "#         job_position = driver.find_element_by_xpath('//a[@data-control-name=\"background_details_company\"]//h3').text\n",
    "#     except:\n",
    "#         job_position = from_cn('t-18', )\n",
    "        \n",
    "#     try:\n",
    "#         company = driver.find_elements_by_xpath('//a[@data-control-name=\"background_details_company\"]//p')[1].text\n",
    "#     except:\n",
    "#         company = \"\"\n",
    "        \n",
    "#     return job_position, company\n",
    "    \n",
    "# def get_data(df):\n",
    "#     action = True\n",
    "#     if action:\n",
    "#         d = {}\n",
    "#         d[\"name\"] = from_cn('t-24')\n",
    "#         d[\"linkedin_link\"] = driver.current_url\n",
    "#         d[\"country\"] = driver.find_element_by_xpath('//li[@class=\"t-16 t-black t-normal inline-block\"]').text.split()[-1]\n",
    "#         d['job_position'] = driver.find_element_by_xpath('//div[@class=\"flex-1 mr5\"]/div/h2').text\n",
    "#         #issue with job position https://www.linkedin.com/in/jennifer-lin-0a7432171/\n",
    "#         d['company'] = driver.find_element_by_xpath('//ul[@class=\"pv-top-card--experience-list\"]/li').text\n",
    "#         d['contacted_in'] = datetime.now(timezone.utc).astimezone().isoformat()\n",
    "              \n",
    "#               #             \"country\":driver.find_elements_by_xpath('//a[@data-control-name=\"background_details_company\"]//h4')[2].,\n",
    "            \n",
    "# #             \"job_position\":driver.find_element_by_xpath('//a[@data-control-name=\"background_details_company\"]//h3').text,\n",
    "# #             \"contacted\":\"\",\n",
    "# #             \"linkedin_link\":,\n",
    "#         print(d)\n",
    "#         df = df.append(d, ignore_index = True)\n",
    "#         return d\n",
    "    \n",
    "    \n",
    "def get_data(df):\n",
    "    action = True\n",
    "    if action:\n",
    "        d = {}\n",
    "        d[\"name\"] = from_cn('t-24')\n",
    "        d[\"linkedin_link\"] = driver.current_url\n",
    "        d[\"country\"] = driver.find_element_by_xpath('//li[@class=\"t-16 t-black t-normal inline-block\"]').text.split()[-1]\n",
    "#         d['job_position'] = driver.find_element_by_xpath('//div[@class=\"flex-1 mr5\"]/div/h2').text\n",
    "        d['job_position'] = driver.find_element_by_xpath('//a[@data-control-name=\"background_details_company\"]/div/h3').text\n",
    "        \n",
    "        \n",
    "        d['company'] = driver.find_element_by_xpath('//ul[@class=\"pv-top-card--experience-list\"]/li').text\n",
    "        d['contacted_in'] = datetime.now(timezone.utc).astimezone().isoformat()\n",
    "              \n",
    "              #             \"country\":driver.find_elements_by_xpath('//a[@data-control-name=\"background_details_company\"]//h4')[2].,\n",
    "            \n",
    "#             \"job_position\":driver.find_element_by_xpath('//a[@data-control-name=\"background_details_company\"]//h3').text,\n",
    "#             \"contacted\":\"\",\n",
    "#             \"linkedin_link\":,\n",
    "        print(d)\n",
    "#         df = df.append(d, ignore_index = True)\n",
    "        return d"
   ]
  },
  {
   "cell_type": "markdown",
   "metadata": {},
   "source": [
    "#### function for entreprise"
   ]
  },
  {
   "cell_type": "code",
   "execution_count": 7,
   "metadata": {},
   "outputs": [],
   "source": [
    "def make_a_search(text):\n",
    "    ele = driver.find_element_by_class_name('search-global-typeahead__input')\n",
    "    ele.clear()\n",
    "    ele.send_keys(text)\n",
    "    \n",
    "def get_connectable_and_picture_profile_list(whole_list):\n",
    "    def connectable_and_picture(profile):\n",
    "        try:\n",
    "            profile.find_element_by_tag_name(\"footer\")\n",
    "            image_s = profile.find_element_by_tag_name(\"img\")\n",
    "            if not image_s.get_attribute('src').startswith(\"data:image\"):\n",
    "                return True\n",
    "            else:\n",
    "                return False\n",
    "        except:\n",
    "            return False\n",
    "    \n",
    "    connectable_list = [profile for profile in whole_list if connectable_and_picture(profile)]\n",
    "\n",
    "    return connectable_list\n",
    "\n",
    "def get_specific_profile(whole_list, text_lower_case, text_lower_case2):\n",
    "    return [profile for profile in whole_list if (text_lower_case or text_lower_case2)  in profile.text.lower()]"
   ]
  },
  {
   "cell_type": "markdown",
   "metadata": {},
   "source": [
    "#### function for message\n"
   ]
  },
  {
   "cell_type": "code",
   "execution_count": 8,
   "metadata": {},
   "outputs": [],
   "source": [
    "def tag_click(tag, texte, click = True):\n",
    "    try:\n",
    "        if click:\n",
    "            driver.find_element_by_xpath(f'//{tag}[text()=\"{texte}\"]').click()\n",
    "    except:\n",
    "        return driver.find_element_by_xpath(f'//{tag}[text()=\"{texte}\"]').text\n",
    "\n",
    "    \n",
    "def can_connect(d):\n",
    "    try:\n",
    "        driver.find_element_by_xpath('//span[text()=\"En attente\"]').text\n",
    "        \n",
    "        print(\"{} already request sent\".format(d[\"name\"]))\n",
    "        return False\n",
    "    except:\n",
    "        driver.find_element_by_xpath('//span[text()=\"Se connecter\"]').click()\n",
    "        return True\n",
    "    \n",
    "def sent_message(message, d):\n",
    "    #click on \"plus\"\n",
    "    driver.find_element_by_xpath('/html/body/div[8]/div[3]/div/div/div/div/div[2]/main/div[1]/section/div[2]/div[1]/div[2]/div/div/div/div/button').click()\n",
    "    generate_delay()\n",
    "    con_possible = can_connect(d)\n",
    "    print(con_possible)\n",
    "    generate_delay()\n",
    "    if con_possible:\n",
    "        tag_click(\"span\", \"Ajouter une note\")\n",
    "        write_message(message)\n",
    "        airtable.insert(d)\n",
    "        generate_delay()\n",
    "\n",
    "def generate_message(d):\n",
    "    full_name = d[\"name\"]\n",
    "    if \"Dr.\" in full_name:\n",
    "        name = \"Dr. \" + full_name.split()[-1] # take the last name of the list, likely the nom\n",
    "    else:\n",
    "        name = full_name.split()[0] # take the prenom\n",
    "    message_en = f\"Bonjour {name},\\nI hope the covid crisis doesn't affect you too much. I was wondering if you already used electrosynthesis to produce one of your APIs ? \"\n",
    "    message_fr = f\"Bonjour {name},\\nNous sommes tous les deux experts dans l'industrie pharmaceutique et je pense qu'il serait intéressant d'échanger à ce sujet, qu'en dites-vous ?\"\n",
    "\n",
    "    if d[\"country\"] == \"France\":\n",
    "        return message_fr\n",
    "    else:\n",
    "        return message_en\n",
    "\n",
    "def scrap_profile_and_send_message(df):\n",
    "    d = get_data(df)\n",
    "    message = generate_message(d)\n",
    "    sent_message(message, d)\n",
    "    \n",
    "\n",
    "    \n"
   ]
  },
  {
   "cell_type": "markdown",
   "metadata": {},
   "source": [
    "## recheche entreprise "
   ]
  },
  {
   "cell_type": "code",
   "execution_count": 9,
   "metadata": {},
   "outputs": [],
   "source": [
    "driver.switch_to.window(driver.window_handles[0])\n",
    "    \n",
    "make_a_search(\"Sensient\")"
   ]
  },
  {
   "cell_type": "code",
   "execution_count": 10,
   "metadata": {},
   "outputs": [],
   "source": [
    "# time.sleep(1)\n",
    "ele = driver.find_element_by_class_name('search-global-typeahead__input')\n",
    "ele.send_keys(Keys.DOWN)"
   ]
  },
  {
   "cell_type": "code",
   "execution_count": 11,
   "metadata": {},
   "outputs": [],
   "source": [
    "ele = driver.find_element_by_class_name('search-global-typeahead__input')\n",
    "ele.send_keys(Keys.ENTER)"
   ]
  },
  {
   "cell_type": "markdown",
   "metadata": {},
   "source": [
    "## on profil entreprise, display employee profiles"
   ]
  },
  {
   "cell_type": "code",
   "execution_count": 10,
   "metadata": {},
   "outputs": [],
   "source": [
    "tag_click(\"a\", \"Personnes\")"
   ]
  },
  {
   "cell_type": "markdown",
   "metadata": {},
   "source": [
    "### scroll to he bottom"
   ]
  },
  {
   "cell_type": "code",
   "execution_count": 33,
   "metadata": {},
   "outputs": [],
   "source": [
    "driver.execute_script(\"window.scrollTo(0, document.body.scrollHeight);\")"
   ]
  },
  {
   "cell_type": "code",
   "execution_count": 34,
   "metadata": {},
   "outputs": [
    {
     "data": {
      "text/plain": [
       "660"
      ]
     },
     "execution_count": 34,
     "metadata": {},
     "output_type": "execute_result"
    }
   ],
   "source": [
    "profiles_list = driver.find_elements_by_class_name('artdeco-card')\n",
    "len(profiles_list)"
   ]
  },
  {
   "cell_type": "code",
   "execution_count": 35,
   "metadata": {},
   "outputs": [
    {
     "data": {
      "text/plain": [
       "459"
      ]
     },
     "execution_count": 35,
     "metadata": {},
     "output_type": "execute_result"
    }
   ],
   "source": [
    "# %%time\n",
    "\n",
    "\n",
    "connectable_profiles = get_connectable_and_picture_profile_list(profiles_list)\n",
    "len(connectable_profiles)"
   ]
  },
  {
   "cell_type": "code",
   "execution_count": 36,
   "metadata": {},
   "outputs": [
    {
     "data": {
      "text/plain": [
       "17"
      ]
     },
     "execution_count": 36,
     "metadata": {},
     "output_type": "execute_result"
    }
   ],
   "source": [
    "short_list = get_specific_profile(connectable_profiles, \"product\", \"r&d\")\n",
    "len(short_list)"
   ]
  },
  {
   "cell_type": "code",
   "execution_count": 38,
   "metadata": {
    "scrolled": true
   },
   "outputs": [
    {
     "name": "stdout",
     "output_type": "stream",
     "text": [
      "sylvain grimault\n",
      "relation de 3e niveau\n",
      "· 3e\n",
      "assistant responsable production at Sensient Technologies Corporation\n",
      "Se connecter\n",
      "https://www.linkedin.com/in/sylvain-grimault-951461119/\n",
      "Joel Esteban Casado\n",
      "relation de 3e niveau\n",
      "· 3e\n",
      "Product Manager Essential Oils en Sensient Technologies Corporation\n",
      "Se connecter\n",
      "https://www.linkedin.com/in/joelesteban/\n",
      "Lisha Daniel\n",
      "relation de 3e niveau\n",
      "· 3e\n",
      "R&D Management / Fermentation / Innovation / New Product Development\n",
      "Se connecter\n",
      "https://www.linkedin.com/in/lishajacob/\n",
      "Emanuela Consuelo Epis\n",
      "relation de 3e niveau\n",
      "· 3e\n",
      "Product Manager Animal Nutrition presso Prosol spa\n",
      "Se connecter\n",
      "https://www.linkedin.com/in/emanuela-consuelo-epis-b30a315b/\n",
      "Ken Schmidt\n",
      "relation de 3e niveau\n",
      "· 3e\n",
      "Warehouse/Logistics/Production Supervisor at Sensient Technologies\n",
      "Se connecter\n",
      "https://www.linkedin.com/in/ken-schmidt-01053743/\n",
      "Nick Laird\n",
      "relation de 3e niveau\n",
      "· 3e\n",
      "Site Production Manager at Sensient Flavors Ltd\n",
      "Se connecter\n",
      "https://www.linkedin.com/in/nick-laird-2ab5b191/\n",
      "Annie Teoh\n",
      "relation de 3e niveau\n",
      "· 3e\n",
      "Product Development Technologist at Walter and Wild\n",
      "Se connecter\n",
      "https://www.linkedin.com/in/annie-teoh-90734110/\n",
      "Jaka Purnama\n",
      "relation de 3e niveau\n",
      "· 3e\n",
      "We bring life to the product\n",
      "Se connecter\n",
      "https://www.linkedin.com/in/jaka-purnama-95a5b8139/\n",
      "David Dunn\n",
      "relation de 3e niveau\n",
      "· 3e\n",
      "Production Operator at Sensient Technologies Corporation\n",
      "Se connecter\n",
      "https://www.linkedin.com/in/david-dunn-2204/\n",
      "Pau Bonet Molins\n",
      "relation de 3e niveau\n",
      "· 3e\n",
      "Customer Product Development en International Flavors & Fragrances\n",
      "Se connecter\n",
      "https://www.linkedin.com/in/paubonet/\n",
      "Peter Stathers\n",
      "relation de 3e niveau\n",
      "· 3e\n",
      "Territory Manager, Hygiene products, Production Brewer, Quality manager\n",
      "Se connecter\n",
      "https://www.linkedin.com/in/peter-stathers/\n",
      "Kevin Barasa\n",
      "relation de 3e niveau\n",
      "· 3e\n",
      "Product Manager at Sensient Technologies Corporation\n",
      "Se connecter\n",
      "https://www.linkedin.com/in/kevin-barasa-71339925/\n",
      "Barbara Ascanio\n",
      "relation de 3e niveau\n",
      "· 3e\n",
      "QA/Product Safety Manager LATAM en Sensient Technologies Corporation\n",
      "Se connecter\n",
      "https://www.linkedin.com/in/barbara-ascanio-a468a078/\n",
      "Glen Fineman\n",
      "relation de 3e niveau\n",
      "· 3e\n",
      "Product Manager at Sensient\n",
      "Se connecter\n",
      "https://www.linkedin.com/in/glen-fineman-05b89a/\n",
      "Andrew Grace\n",
      "relation de 3e niveau\n",
      "· 3e\n",
      "Product Manager at Sensient Technologies Corporation\n",
      "Se connecter\n",
      "https://www.linkedin.com/in/andrew-grace-79648512/\n",
      "Sheryl Encarnacion\n",
      "relation de 3e niveau\n",
      "· 3e\n",
      "Product Development Specialist at San Miguel Corporation\n",
      "Se connecter\n",
      "https://www.linkedin.com/in/sheryl-encarnacion-a98019a2/\n",
      "Windylyn A.\n",
      "relation de 3e niveau\n",
      "· 3e\n",
      "Production Planner at Sensient Technologies (Phils.), Inc.\n",
      "Se connecter\n",
      "https://www.linkedin.com/in/windylyn-a-634186a2/\n"
     ]
    }
   ],
   "source": [
    "for profile in short_list:\n",
    "    print(profile.text)\n",
    "#     driver.switch_to.window(driver.window_handles[0])\n",
    "    driver.execute_script(\"arguments[0].scrollIntoView();\", profile)\n",
    "    generate_delay(0.2,0.05)\n",
    "    driver.execute_script(\"window.scrollTo(0, window.scrollY - 150)\")\n",
    "    generate_delay(0.2,0.05)\n",
    "    link = profile.find_element_by_tag_name('a').get_attribute('href')\n",
    "    print(link)\n",
    "    driver.execute_script(f'''window.open(\"{link}\",\"_blank\");''')\n",
    "    generate_delay(0.7,0.15)\n",
    "driver.switch_to.window(driver.window_handles[0])"
   ]
  },
  {
   "cell_type": "markdown",
   "metadata": {},
   "source": [
    "### Sent message"
   ]
  },
  {
   "cell_type": "code",
   "execution_count": 39,
   "metadata": {
    "scrolled": true
   },
   "outputs": [
    {
     "name": "stdout",
     "output_type": "stream",
     "text": [
      "https://www.linkedin.com/company/sensient/people/\n",
      "https://www.linkedin.com/in/windylyn-a-634186a2/\n",
      "oui/non\n",
      "oui\n",
      "{'name': 'Windylyn A.', 'linkedin_link': 'https://www.linkedin.com/in/windylyn-a-634186a2/', 'country': 'Philippines', 'job_position': 'Production Planner', 'company': 'Sensient Technologies Corporation', 'contacted_in': '2020-06-28T22:20:35.366246+02:00'}\n",
      "True\n",
      "https://www.linkedin.com/in/sheryl-encarnacion-a98019a2/\n",
      "oui/non\n",
      "oui\n",
      "{'name': 'Sheryl Encarnacion', 'linkedin_link': 'https://www.linkedin.com/in/sheryl-encarnacion-a98019a2/', 'country': 'Philippines', 'job_position': 'Product Development Specialist', 'company': 'San Miguel Corporation', 'contacted_in': '2020-06-28T22:20:56.970732+02:00'}\n",
      "True\n",
      "https://www.linkedin.com/in/andrew-grace-79648512/\n",
      "oui/non\n",
      "oui\n",
      "{'name': 'Andrew Grace', 'linkedin_link': 'https://www.linkedin.com/in/andrew-grace-79648512/', 'country': 'Australie', 'job_position': 'Product Manager', 'company': 'Sensient Technologies Corporation', 'contacted_in': '2020-06-28T22:21:15.465076+02:00'}\n",
      "True\n",
      "https://www.linkedin.com/in/glen-fineman-05b89a/\n",
      "oui/non\n",
      "oui\n",
      "{'name': 'Glen Fineman', 'linkedin_link': 'https://www.linkedin.com/in/glen-fineman-05b89a/', 'country': 'États-Unis', 'job_position': 'Licensee', 'company': 'Sensient', 'contacted_in': '2020-06-28T22:21:33.923767+02:00'}\n",
      "True\n",
      "https://www.linkedin.com/in/barbara-ascanio-a468a078/\n",
      "oui/non\n",
      "oui\n",
      "{'name': 'Barbara Ascanio', 'linkedin_link': 'https://www.linkedin.com/in/barbara-ascanio-a468a078/', 'country': 'Mexique', 'job_position': 'QA/Product Safety Manager LATAM', 'company': 'Sensient Technologies Corporation', 'contacted_in': '2020-06-28T22:21:58.100777+02:00'}\n",
      "True\n",
      "https://www.linkedin.com/in/kevin-barasa-71339925/\n",
      "oui/non\n",
      "oui\n",
      "{'name': 'Kevin Barasa', 'linkedin_link': 'https://www.linkedin.com/in/kevin-barasa-71339925/', 'country': 'États-Unis', 'job_position': 'Team Lead', 'company': 'Sensient Technologies Corporation', 'contacted_in': '2020-06-28T22:23:10.250149+02:00'}\n",
      "True\n",
      "https://www.linkedin.com/in/peter-stathers/\n",
      "oui/non\n",
      "oui\n",
      "{'name': 'Peter Stathers', 'linkedin_link': 'https://www.linkedin.com/in/peter-stathers/', 'country': 'Royaume-Uni', 'job_position': 'QA Supervisor', 'company': 'Sensient Technologies Corporation', 'contacted_in': '2020-06-28T22:24:17.674040+02:00'}\n",
      "True\n",
      "https://www.linkedin.com/in/paubonet/\n",
      "oui/non\n",
      "oui\n",
      "{'name': 'Pau Bonet Molins', 'linkedin_link': 'https://www.linkedin.com/in/paubonet/', 'country': 'Espagne', 'job_position': 'Customer Product Development', 'company': 'International Flavors & Fragrances', 'contacted_in': '2020-06-28T22:26:02.858326+02:00'}\n",
      "True\n",
      "https://www.linkedin.com/in/david-dunn-2204/\n",
      "oui/non\n",
      "oui\n",
      "{'name': 'David Dunn', 'linkedin_link': 'https://www.linkedin.com/in/david-dunn-2204/', 'country': 'Royaume-Uni', 'job_position': 'Production Operator', 'company': 'Sensient Technologies Corporation', 'contacted_in': '2020-06-28T22:26:27.030502+02:00'}\n",
      "True\n",
      "https://www.linkedin.com/in/jaka-purnama-95a5b8139/\n",
      "oui/non\n",
      "oui\n",
      "{'name': 'Jaka Purnama', 'linkedin_link': 'https://www.linkedin.com/in/jaka-purnama-95a5b8139/', 'country': 'Indonésie', 'job_position': 'Application Lab Technician and RnD', 'company': 'Sensient Technologies Corporation', 'contacted_in': '2020-06-28T22:26:48.652378+02:00'}\n",
      "True\n",
      "https://www.linkedin.com/in/annie-teoh-90734110/\n",
      "oui/non\n",
      "non\n",
      "https://www.linkedin.com/in/nick-laird-2ab5b191/\n",
      "oui/non\n",
      "oui\n",
      "{'name': 'Nick Laird', 'linkedin_link': 'https://www.linkedin.com/in/nick-laird-2ab5b191/', 'country': 'Royaume-Uni', 'job_position': 'Site Production Manager', 'company': 'Sensient Flavors Ltd', 'contacted_in': '2020-06-28T22:27:12.672023+02:00'}\n",
      "True\n",
      "https://www.linkedin.com/in/ken-schmidt-01053743/\n",
      "oui/non\n",
      "non\n",
      "https://www.linkedin.com/in/emanuela-consuelo-epis-b30a315b/\n",
      "oui/non\n",
      "non\n",
      "https://www.linkedin.com/in/lishajacob/\n",
      "oui/non\n",
      "oui\n",
      "{'name': 'Lisha (Jacob) Daniel', 'linkedin_link': 'https://www.linkedin.com/in/lishajacob/', 'country': 'Illinois', 'job_position': 'Scientist Trainee', 'company': 'Sensient Technologies Corporation', 'contacted_in': '2020-06-28T22:28:14.605031+02:00'}\n",
      "True\n",
      "https://www.linkedin.com/in/joelesteban/\n",
      "oui/non\n",
      "non\n",
      "https://www.linkedin.com/in/sylvain-grimault-951461119/\n",
      "oui/non\n",
      "oui\n",
      "{'name': 'sylvain grimault', 'linkedin_link': 'https://www.linkedin.com/in/sylvain-grimault-951461119/', 'country': 'France', 'job_position': 'assistant responsable production', 'company': 'Sensient Technologies Corporation', 'contacted_in': '2020-06-28T22:28:57.722682+02:00'}\n",
      "True\n"
     ]
    }
   ],
   "source": [
    "for tab in driver.window_handles:\n",
    "    driver.switch_to.window(tab)\n",
    "    generate_delay(mean = 0.6, sigma = 0.1)\n",
    "    print(driver.current_url)\n",
    "    if is_ld_profile(driver.current_url):\n",
    "        anwser = input('oui/non\\n')\n",
    "        if anwser == \"oui\":\n",
    "            scrap_profile_and_send_message(df)\n",
    "        else:\n",
    "            driver.close()\n",
    "        "
   ]
  },
  {
   "cell_type": "code",
   "execution_count": 100,
   "metadata": {},
   "outputs": [
    {
     "name": "stdout",
     "output_type": "stream",
     "text": [
      "{'name': 'Giancarlo Porta', 'linkedin_link': 'https://www.linkedin.com/in/giancarlo-porta-28a7b828/', 'country': 'Suisse', 'job_position': 'Export Manager (Eastern Europe, CIS countries)', 'company': 'Refarmed Chemicals', 'contacted_in': '2020-06-18T15:38:37.960519+02:00'}\n"
     ]
    },
    {
     "data": {
      "text/plain": [
       "{'name': 'Giancarlo Porta',\n",
       " 'linkedin_link': 'https://www.linkedin.com/in/giancarlo-porta-28a7b828/',\n",
       " 'country': 'Suisse',\n",
       " 'job_position': 'Export Manager (Eastern Europe, CIS countries)',\n",
       " 'company': 'Refarmed Chemicals',\n",
       " 'contacted_in': '2020-06-18T15:38:37.960519+02:00'}"
      ]
     },
     "execution_count": 100,
     "metadata": {},
     "output_type": "execute_result"
    }
   ],
   "source": [
    "# driver.switch_to.window(driver.window_handles[0])\n",
    "get_data(df)"
   ]
  },
  {
   "cell_type": "code",
   "execution_count": 54,
   "metadata": {},
   "outputs": [
    {
     "data": {
      "text/plain": [
       "'Allemagne'"
      ]
     },
     "execution_count": 54,
     "metadata": {},
     "output_type": "execute_result"
    }
   ],
   "source": [
    "driver.find_element_by_xpath('//li[@class=\"t-16 t-black t-normal inline-block\"]').text.split()[-1]"
   ]
  },
  {
   "cell_type": "code",
   "execution_count": 49,
   "metadata": {},
   "outputs": [],
   "source": [
    "\n",
    "\n",
    "# def get_position_company():\n",
    "#     try:\n",
    "#         job_position = driver.find_element_by_xpath('//a[@data-control-name=\"background_details_company\"]//h3').text\n",
    "#     except:\n",
    "#         job_position = from_cn('t-18', )\n",
    "        \n",
    "#     try:\n",
    "#         company = driver.find_elements_by_xpath('//a[@data-control-name=\"background_details_company\"]//p')[1].text\n",
    "#     except:\n",
    "#         company = \"\"\n",
    "        \n",
    "#     return job_position, company\n",
    "    \n",
    "\n"
   ]
  },
  {
   "cell_type": "code",
   "execution_count": 59,
   "metadata": {},
   "outputs": [
    {
     "name": "stdout",
     "output_type": "stream",
     "text": [
      "{'name': '劉育綾 (Catherine Liu)', 'linkedin_link': 'https://www.linkedin.com/in/%E8%82%B2%E7%B6%BE-%E5%8A%89-7b30432a/', 'country': 'Taiwan', 'job_position': 'QA Specialist', 'company': 'Sci Pharmtech Inc', 'contacted_in': '2020-06-18T14:52:32.357575+02:00'}\n"
     ]
    },
    {
     "data": {
      "text/plain": [
       "{'name': '劉育綾 (Catherine Liu)',\n",
       " 'linkedin_link': 'https://www.linkedin.com/in/%E8%82%B2%E7%B6%BE-%E5%8A%89-7b30432a/',\n",
       " 'country': 'Taiwan',\n",
       " 'job_position': 'QA Specialist',\n",
       " 'company': 'Sci Pharmtech Inc',\n",
       " 'contacted_in': '2020-06-18T14:52:32.357575+02:00'}"
      ]
     },
     "execution_count": 59,
     "metadata": {},
     "output_type": "execute_result"
    }
   ],
   "source": [
    "driver.switch_to.window(driver.window_handles[-5])\n",
    "# get_data(df)\n",
    "get_data(df)"
   ]
  },
  {
   "cell_type": "code",
   "execution_count": 60,
   "metadata": {},
   "outputs": [
    {
     "data": {
      "text/plain": [
       "'Project Management Bioscience Solutions bei Kraeber GmbH & Co'"
      ]
     },
     "execution_count": 60,
     "metadata": {},
     "output_type": "execute_result"
    }
   ],
   "source": [
    "driver.find_element_by_xpath('//div[@class=\"flex-1 mr5\"]/div/h2').text"
   ]
  },
  {
   "cell_type": "code",
   "execution_count": 42,
   "metadata": {},
   "outputs": [],
   "source": [
    "driver.quit()"
   ]
  },
  {
   "cell_type": "code",
   "execution_count": null,
   "metadata": {},
   "outputs": [],
   "source": []
  }
 ],
 "metadata": {
  "kernelspec": {
   "display_name": "Python 3",
   "language": "python",
   "name": "python3"
  },
  "language_info": {
   "codemirror_mode": {
    "name": "ipython",
    "version": 3
   },
   "file_extension": ".py",
   "mimetype": "text/x-python",
   "name": "python",
   "nbconvert_exporter": "python",
   "pygments_lexer": "ipython3",
   "version": "3.7.4"
  },
  "varInspector": {
   "cols": {
    "lenName": 16,
    "lenType": 16,
    "lenVar": 40
   },
   "kernels_config": {
    "python": {
     "delete_cmd_postfix": "",
     "delete_cmd_prefix": "del ",
     "library": "var_list.py",
     "varRefreshCmd": "print(var_dic_list())"
    },
    "r": {
     "delete_cmd_postfix": ") ",
     "delete_cmd_prefix": "rm(",
     "library": "var_list.r",
     "varRefreshCmd": "cat(var_dic_list()) "
    }
   },
   "types_to_exclude": [
    "module",
    "function",
    "builtin_function_or_method",
    "instance",
    "_Feature"
   ],
   "window_display": true
  }
 },
 "nbformat": 4,
 "nbformat_minor": 2
}
