{
 "cells": [
  {
   "cell_type": "code",
   "execution_count": 2,
   "metadata": {},
   "outputs": [],
   "source": [
    "from airtable import Airtable\n",
    "from datetime import datetime\n",
    "import json"
   ]
  },
  {
   "cell_type": "code",
   "execution_count": 5,
   "metadata": {},
   "outputs": [],
   "source": [
    "d = {}\n",
    "d[\"name\"] = \"moi\"\n",
    "d[\"linkedin_link\"] = \"lol.com\"\n",
    "d[\"country\"] = \"France\"\n",
    "d['job_position'], d['company'] = \"king of britain\", \"in britain\"\n",
    "d['contacted_in'] = datetime.now().isoformat()\n",
    "\n",
    "airtable = Airtable(\"appsukCYzNmwFtrh9\", \"linkedin\", api_key='key1qvdsKWuaiJxKk')\n",
    "\n",
    "insertion = airtable.insert(d)\n",
    "print(insertion)\n",
    "airtable.delete(insertion['id'])"
   ]
  },
  {
   "cell_type": "code",
   "execution_count": 7,
   "metadata": {},
   "outputs": [],
   "source": [
    "creds = {\n",
    "    'airtable_creds' : {\n",
    "    \"compte\" : \"appsukCYzNmwFtrh9\",\n",
    "    \"table\" : \"linkedin\",\n",
    "    \"api_key\" : \"key1qvdsKWuaiJxKk\",\n",
    "},\n",
    "\n",
    "'linkedin_creds' : {\n",
    "    'mail' : 'emmanuel.thiery.pro@gmail.com',\n",
    "    'pwd' : 'waitareum91',\n",
    "}\n",
    "}"
   ]
  },
  {
   "cell_type": "code",
   "execution_count": 8,
   "metadata": {},
   "outputs": [],
   "source": [
    "with open('creds.json', 'w') as outfile:\n",
    "    json.dump(creds, outfile)"
   ]
  },
  {
   "cell_type": "code",
   "execution_count": null,
   "metadata": {},
   "outputs": [],
   "source": []
  }
 ],
 "metadata": {
  "kernelspec": {
   "display_name": "Python 3",
   "language": "python",
   "name": "python3"
  },
  "language_info": {
   "codemirror_mode": {
    "name": "ipython",
    "version": 3
   },
   "file_extension": ".py",
   "mimetype": "text/x-python",
   "name": "python",
   "nbconvert_exporter": "python",
   "pygments_lexer": "ipython3",
   "version": "3.7.4"
  }
 },
 "nbformat": 4,
 "nbformat_minor": 2
}
