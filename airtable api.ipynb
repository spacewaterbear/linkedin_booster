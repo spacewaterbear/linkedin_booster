{
 "cells": [
  {
   "cell_type": "code",
   "execution_count": 1,
   "metadata": {},
   "outputs": [],
   "source": [
    "from airtable import Airtable\n",
    "from datetime import datetime\n"
   ]
  },
  {
   "cell_type": "code",
   "execution_count": 5,
   "metadata": {},
   "outputs": [],
   "source": [
    "d = {}\n",
    "d[\"name\"] = \"moi\"\n",
    "d[\"linkedin_link\"] = \"lol.com\"\n",
    "d[\"country\"] = \"France\"\n",
    "d['job_position'], d['company'] = \"king of britain\", \"in britain\"\n",
    "d['contacted_in'] = datetime.now().isoformat()"
   ]
  },
  {
   "cell_type": "code",
   "execution_count": 6,
   "metadata": {},
   "outputs": [
    {
     "data": {
      "text/plain": [
       "{'id': 'recv1WctTlbZI9LUx',\n",
       " 'fields': {'company': 'in britain',\n",
       "  'name': 'moi',\n",
       "  'job_position': 'king of britain',\n",
       "  'contacted_in': '2020-03-09T18:55:20.275Z',\n",
       "  'linkedin_link': 'lol.com',\n",
       "  'country': 'France'},\n",
       " 'createdTime': '2020-03-09T17:55:24.000Z'}"
      ]
     },
     "execution_count": 6,
     "metadata": {},
     "output_type": "execute_result"
    }
   ],
   "source": [
    "airtable.insert(d)"
   ]
  }
 ],
 "metadata": {
  "kernelspec": {
   "display_name": "Python 3",
   "language": "python",
   "name": "python3"
  },
  "language_info": {
   "codemirror_mode": {
    "name": "ipython",
    "version": 3
   },
   "file_extension": ".py",
   "mimetype": "text/x-python",
   "name": "python",
   "nbconvert_exporter": "python",
   "pygments_lexer": "ipython3",
   "version": "3.7.3"
  }
 },
 "nbformat": 4,
 "nbformat_minor": 2
}
