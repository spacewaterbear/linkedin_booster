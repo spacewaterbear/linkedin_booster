{
 "cells": [
  {
   "cell_type": "code",
   "execution_count": 8,
   "metadata": {},
   "outputs": [],
   "source": [
    "from datetime import datetime, timezone\n",
    "import pandas as pd\n",
    "import numpy as np\n",
    "from selenium import webdriver\n",
    "from airtable import Airtable\n",
    "from selenium.webdriver.common.keys import Keys\n",
    "from selenium.webdriver.support.ui import WebDriverWait\n",
    "from selenium.webdriver.support import expected_conditions as EC\n",
    "from time import sleep\n",
    "import random\n",
    "import os\n"
   ]
  },
  {
   "cell_type": "code",
   "execution_count": null,
   "metadata": {},
   "outputs": [],
   "source": []
  },
  {
   "cell_type": "code",
   "execution_count": 29,
   "metadata": {},
   "outputs": [],
   "source": [
    "os.chdir(r'C:\\Users\\Shadow\\PycharmProjects\\linkedin_booster\\src\\main\\python\\package')\n",
    "from creds import airtable_creds, linkedin_creds\n",
    "from scrap_dic import linkedin_d"
   ]
  },
  {
   "cell_type": "code",
   "execution_count": 33,
   "metadata": {},
   "outputs": [],
   "source": [
    "linkedin_d = {\n",
    "    'name':'//li[contains(@class, \"t-24\")]',\n",
    "    'country':'//li[@class=\"t-16 t-black t-normal inline-block\"]',\n",
    "    'job_position':'//a[@data-control-name=\"background_details_company\"]/div/h3',\n",
    "    'company':'//ul[@class=\"pv-top-card--experience-list\"]/li',\n",
    "\n",
    "}"
   ]
  },
  {
   "cell_type": "code",
   "execution_count": 10,
   "metadata": {
    "scrolled": true
   },
   "outputs": [
    {
     "data": {
      "text/plain": [
       "['booster_class.py',\n",
       " 'creds.py',\n",
       " 'main_windows.py',\n",
       " 'scrap_dic.py',\n",
       " '__pycache__']"
      ]
     },
     "execution_count": 10,
     "metadata": {},
     "output_type": "execute_result"
    }
   ],
   "source": [
    "os.listdir()"
   ]
  },
  {
   "cell_type": "code",
   "execution_count": 42,
   "metadata": {},
   "outputs": [
    {
     "data": {
      "text/plain": [
       "{'compte': 'appsukCYzNmwFtrh9',\n",
       " 'table': 'linkedin',\n",
       " 'api_key': 'key1qvdsKWuaiJxKk'}"
      ]
     },
     "execution_count": 42,
     "metadata": {},
     "output_type": "execute_result"
    }
   ],
   "source": [
    "airtable_creds"
   ]
  },
  {
   "cell_type": "code",
   "execution_count": 43,
   "metadata": {},
   "outputs": [
    {
     "name": "stdout",
     "output_type": "stream",
     "text": [
      "{'id': 'recaae5NJafGpSlUq', 'fields': {'company': 'in britain', 'name': 'moi', 'job_position': 'king of britain', 'contacted_in': '2020-08-23T19:26:53.007Z', 'linkedin_link': 'lol.com', 'country': 'France'}, 'createdTime': '2020-08-23T17:26:53.000Z'}\n"
     ]
    }
   ],
   "source": [
    "airtable = Airtable(airtable_creds['compte'], airtable_creds['table'], api_key=airtable_creds['api_key'])\n",
    "d = {}\n",
    "d[\"name\"] = \"moi\"\n",
    "d[\"linkedin_link\"] = \"lol.com\"\n",
    "d[\"country\"] = \"France\"\n",
    "d['job_position'], d['company'] = \"king of britain\", \"in britain\"\n",
    "d['contacted_in'] = datetime.now().isoformat()\n",
    "\n",
    "# airtable = Airtable(\"appsukCYzNmwFtrh9\", \"linkedin\", api_key='key1qvdsKWuaiJxKk')\n",
    "\n",
    "insertion = airtable.insert(d)\n",
    "print(insertion)\n",
    "# airtable.delete(insertion['id'])"
   ]
  },
  {
   "cell_type": "code",
   "execution_count": 44,
   "metadata": {},
   "outputs": [
    {
     "data": {
      "text/plain": [
       "{'deleted': True, 'id': 'recaae5NJafGpSlUq'}"
      ]
     },
     "execution_count": 44,
     "metadata": {},
     "output_type": "execute_result"
    }
   ],
   "source": [
    "airtable.delete(insertion['id'])"
   ]
  },
  {
   "cell_type": "code",
   "execution_count": 36,
   "metadata": {},
   "outputs": [],
   "source": [
    "\n",
    "\n",
    "LOGS_PATH = \"logs.txt\"\n",
    "\n",
    "\n",
    "\n",
    "\n",
    "\n",
    "\n",
    "class LinkedinBooster:\n",
    "    def __init__(self, driver, linkedin_d):\n",
    "        self.driver = driver\n",
    "        self.website = \"https://www.linkedin.com/\"\n",
    "        self.connected = False\n",
    "        self.linkedin_d = linkedin_d\n",
    "\n",
    "    def _delay(self, mean=2, sigma=0.2):\n",
    "        \"\"\"\n",
    "        retourn un chiffre aléatoire suivant une distribution normal de moyenne 4 secondes et d'ecart-type de 0.8\n",
    "        Ce chiffre aléatoire est le délai après chaque clique. Le but est de simuler le comportement d'un humain :\n",
    "        un délai fixe peut attirer l'attention des contrôleurs, tout comme un délai aléatoire d'une distribution uniforme\n",
    "        \"\"\"\n",
    "        mini = mean*(1-sigma)\n",
    "        delai = np.random.normal(mean, sigma, 1)[0]\n",
    "        while delai < mini:\n",
    "            delai = abs(np.random.normal(mean, sigma, 1)[0])\n",
    "\n",
    "        sleep(delai)\n",
    "\n",
    "    def _display_error_message(self, colonne):\n",
    "        \"\"\"\n",
    "        can only been used after the method get_data\n",
    "        \"\"\"\n",
    "        message = f'Problème : {colonne}\\n'\n",
    "        print(message)\n",
    "        with open(LOGS_PATH, \"a+\") as f:\n",
    "            f.write(message)\n",
    "\n",
    "    def _click_and_delai_xpath(self,xpath, mean=0.6, sigma=0.1):\n",
    "        try:\n",
    "            self.driver.find_element_by_xpath(xpath).click()\n",
    "            self._delay(mean, sigma)\n",
    "        except :\n",
    "            self._display_error_message()\n",
    "\n",
    "    def _from_cn(self, class_name):\n",
    "        ele_sel = self.driver.find_element_by_class_name(class_name)\n",
    "        if ele_sel != None:\n",
    "            return ele_sel.text\n",
    "        else:\n",
    "            return None\n",
    "\n",
    "    def _is_ld_profile(sel, url):\n",
    "        if r\".com/in/\" in url:\n",
    "            return True\n",
    "        else:\n",
    "            return False\n",
    "\n",
    "    def write_message(self, message):\n",
    "        text_area = self.driver.find_element_by_xpath('//textarea[@name=\"message\"]')\n",
    "        for letter in message:\n",
    "            sleep(abs(random.random() / 150))  # sleep between 1 and 3 seconds\n",
    "            text_area.send_keys(letter)\n",
    "\n",
    "    def _update_dic(self, column):\n",
    "        \"\"\"\n",
    "        met à jour un dictionnaire qui est créé et remis à zero pour chaque fiche entreprise (cf boucle while plus bas)\n",
    "        dic : dictionnaire, soit d_xpath ou d_class\n",
    "        column : nom de la colonne de la dataframe et de la clé du dictionnaire\n",
    "        \"\"\"\n",
    "        try:\n",
    "            data = self.driver.find_element_by_xpath(self.linkedin_d[column]).text\n",
    "            if column == \"country\":\n",
    "                data = data.split()[-1]\n",
    "            return data\n",
    "        except:\n",
    "            self._display_error_message(column)\n",
    "\n",
    "    def get_data(self):\n",
    "        action = True\n",
    "        if action:\n",
    "            d = {}\n",
    "            for key, value in self.linkedin_d.items():\n",
    "                d[key] = self._update_dic(key)\n",
    "            # d[\"name\"] = self._from_cn('t-24')\n",
    "            d[\"linkedin_link\"] = self.driver.current_url\n",
    "            # d[\"country\"] = self.driver.find_element_by_xpath('//li[@class=\"t-16 t-black t-normal inline-block\"]').text.split()[-1]\n",
    "            # d['job_position'] = driver.find_element_by_xpath('//a[@data-control-name=\"background_details_company\"]/div/h3').text\n",
    "            # d['company'] = driver.find_element_by_xpath('//ul[@class=\"pv-top-card--experience-list\"]/li').text\n",
    "            d['contacted_in'] = datetime.now(timezone.utc).astimezone().isoformat()\n",
    "            print(d)\n",
    "            return d\n",
    "\n",
    "\n",
    "    ### function for entreprises\n",
    "\n",
    "\n",
    "    def get_connectable_and_picture_profile_list(self, whole_list, with_profile_pic = True):\n",
    "        def connectable_and_picture(profile):\n",
    "            try:\n",
    "                profile.find_element_by_tag_name(\"footer\")\n",
    "                if with_profile_pic:\n",
    "                    image_s = profile.find_element_by_tag_name(\"img\")\n",
    "                    if not image_s.get_attribute('src').startswith(\"data:image\"):\n",
    "                        return True\n",
    "                    else:\n",
    "                        return False\n",
    "                else:\n",
    "                    return True\n",
    "            except:\n",
    "                return False\n",
    "\n",
    "        connectable_list = [profile for profile in whole_list if connectable_and_picture(profile)]\n",
    "\n",
    "        return connectable_list\n",
    "\n",
    "    def get_specific_profile(self, whole_list, text_lower_case, text_lower_case2):\n",
    "        return [profile for profile in whole_list if (text_lower_case or text_lower_case2) in profile.text.lower()]\n",
    "\n",
    "    #### function for message\n",
    "\n",
    "    def tag_click(self, tag, texte, click=True):\n",
    "        \"\"\":arg\n",
    "        WTF this function ?\n",
    "        \"\"\"\n",
    "        try:\n",
    "            if click:\n",
    "                self.driver.find_element_by_xpath(f'//{tag}[text()=\"{texte}\"]').click()\n",
    "                self._delay(0.897,0.21)\n",
    "        except:\n",
    "            return self.driver.find_element_by_xpath(f'//{tag}[text()=\"{texte}\"]').text\n",
    "\n",
    "    def can_connect(self, d):\n",
    "        try:\n",
    "            self.driver.find_element_by_xpath('//span[text()=\"En attente\"]').text\n",
    "\n",
    "            print(\"{} already request sent\".format(d[\"name\"]))\n",
    "            return False\n",
    "        except:\n",
    "            self.driver.find_element_by_xpath('//span[text()=\"Se connecter\"]').click()\n",
    "            return True\n",
    "\n",
    "    def sent_message(self, message, d):\n",
    "        # click on \"plus\"\n",
    "        self.driver.find_element_by_xpath('/html/body/div[8]/div[3]/div/div/div/div/div[2]/main/div[1]/section/div[2]/div[1]/div[2]/div/div/div/div/button').click()\n",
    "        self._delay(0.5,0.2)\n",
    "        con_possible = self.can_connect(d)\n",
    "        print(con_possible)\n",
    "        self._delay(0.5,0.2)\n",
    "        if con_possible:\n",
    "            self.tag_click(\"span\", \"Ajouter une note\")\n",
    "            self.write_message(message)\n",
    "            airtable.insert(d)\n",
    "            self._delay(0.2,0.02)\n",
    "\n",
    "    def generate_message(self,d):\n",
    "        full_name = d[\"name\"]\n",
    "        if \"Dr.\" in full_name:\n",
    "            name = \"Dr. \" + full_name.split()[-1]  # take the last name of the list, likely the nom\n",
    "        else:\n",
    "            name = full_name.split()[0]  # take the prenom\n",
    "        message_en = f\"Bonjour {name},\\nI hope the covid crisis doesn't affect you too much. I was wondering if you already used electrosynthesis to produce one of your APIs ? \"\n",
    "        message_fr = f\"Bonjour {name},\\nNous sommes tous les deux experts dans l'industrie pharmaceutique et je pense qu'il serait intéressant d'échanger à ce sujet, qu'en dites-vous ?\"\n",
    "\n",
    "        if d[\"country\"] == \"France\":\n",
    "            return message_fr\n",
    "        else:\n",
    "            return message_en\n",
    "\n",
    "    def scrap_profile_and_send_message(self):\n",
    "        d = self.get_data()\n",
    "        if d['name'] == None:\n",
    "            d = str(d)\n",
    "            self._display_error_message(f\"pas de nom, pas de message pour {d}\\n\")\n",
    "        else:\n",
    "            message = self.generate_message(d)\n",
    "            self.sent_message(message, d)\n",
    "\n",
    "    def click_on_selected_profiles(self, short_list):\n",
    "        for profile in short_list:\n",
    "            print(profile.text)\n",
    "            #     driver.switch_to.window(driver.window_handles[0])\n",
    "            self.driver.execute_script(\"arguments[0].scrollIntoView();\", profile)\n",
    "            self._delay(0.2, 0.05)\n",
    "            self.driver.execute_script(\"window.scrollTo(0, window.scrollY - 150)\")\n",
    "            self._delay(0.2, 0.05)\n",
    "            link = profile.find_element_by_tag_name('a').get_attribute('href')\n",
    "            print(link)\n",
    "            self.driver.execute_script(f'''window.open(\"{link}\",\"_blank\");''')\n",
    "            self._delay(0.7, 0.15)\n",
    "        self.driver.switch_to.window(self.driver.window_handles[0])\n",
    "\n",
    "\n",
    "    def linkedin_connexion(self):\n",
    "        self._click_and_delai_xpath('//a[@class=\"nav__button-secondary\"]')\n",
    "        self.driver.find_element_by_xpath('//input[@id=\"username\"]').send_keys(linkedin_creds['mail'])\n",
    "        self.driver.find_element_by_xpath('//input[@id=\"password\"]').send_keys(linkedin_creds['pwd'])\n",
    "        self._click_and_delai_xpath('//button[@type=\"submit\"]', 1.5, 0.2)\n",
    "        self.connected = True\n",
    "\n",
    "    def make_a_search(self, text):\n",
    "        ele = self.driver.find_element_by_class_name('search-global-typeahead__input')\n",
    "        ele.clear()\n",
    "        ele.send_keys(text)\n",
    "\n",
    "    def search_personn(self, keyword_list = [], with_profile_pic=True):\n",
    "        self.tag_click(\"a\", \"Personnes\")\n",
    "        self.driver.execute_script(\"window.scrollTo(0, document.body.scrollHeight);\")\n",
    "        self._delay(0.7, 0.2)\n",
    "        self.driver.execute_script(\"window.scrollTo(0, document.body.scrollHeight);\")\n",
    "        self._delay(0.7, 0.2)\n",
    "        profiles_list = self.driver.find_elements_by_class_name('artdeco-card')\n",
    "        print('nb profiles :', len(profiles_list))\n",
    "        short_list = self.get_connectable_and_picture_profile_list(profiles_list, with_profile_pic=with_profile_pic)\n",
    "        print('nb connectable :', len(short_list))\n",
    "        if keyword_list != []:\n",
    "            short_list = self.get_specific_profile(short_list, keyword_list[0], keyword_list[1])\n",
    "        print('nb connectable :', len(short_list))\n",
    "        self.click_on_selected_profiles(short_list)\n",
    "\n",
    "    def send_message_to_profiles(self):\n",
    "        for tab in self.driver.window_handles:\n",
    "            self.driver.switch_to.window(tab)\n",
    "            self._delay(mean=0.6, sigma=0.1)\n",
    "            print(self.driver.current_url)\n",
    "            if self._is_ld_profile(self.driver.current_url):\n",
    "                anwser = input('oui/non\\n')\n",
    "                if anwser == \"oui\":\n",
    "                    self.scrap_profile_and_send_message()\n",
    "                else:\n",
    "                    self.driver.close()\n",
    "\n",
    "    def run(self):\n",
    "        self.driver.switch_to.window(self.driver.window_handles[0])\n",
    "        self.make_a_search(\"Sensient\")\n",
    "        ele = self.driver.find_element_by_class_name('search-global-typeahead__input')\n",
    "        #ton check with button but should be in make_a_search_method\n",
    "        ele.send_keys(Keys.DOWN)\n",
    "        self._delay(0.5, 0.12)\n",
    "        ele.send_keys(Keys.DOWN)\n",
    "        self._delay(0.5, 0.12)\n",
    "        ele.send_keys(Keys.ENTER)\n",
    "        self._delay(1.5, 0.2)\n",
    "        # to chcek with button\n",
    "        self.search_personn()\n",
    "        self.send_message_to_profiles()"
   ]
  },
  {
   "cell_type": "code",
   "execution_count": null,
   "metadata": {},
   "outputs": [],
   "source": []
  },
  {
   "cell_type": "code",
   "execution_count": 37,
   "metadata": {},
   "outputs": [],
   "source": [
    "# driver = webdriver.Chrome()\n",
    "# driver.get(\"https://www.linkedin.com/\")\n",
    "# driver.maximize_window()\n",
    "lb = LinkedinBooster(driver, linkedin_d=linkedin_d)\n",
    "# lb.linkedin_connexion()\n",
    "# lb.run()"
   ]
  },
  {
   "cell_type": "code",
   "execution_count": 38,
   "metadata": {},
   "outputs": [
    {
     "name": "stdout",
     "output_type": "stream",
     "text": [
      "{'name': 'Michel Salles', 'country': 'France', 'job_position': 'Commercial Manager', 'company': 'Sensient Technologies Corporation', 'linkedin_link': 'https://www.linkedin.com/in/michelsalles/', 'contacted_in': '2020-08-23T19:18:30.446511+02:00'}\n"
     ]
    },
    {
     "data": {
      "text/plain": [
       "{'name': 'Michel Salles',\n",
       " 'country': 'France',\n",
       " 'job_position': 'Commercial Manager',\n",
       " 'company': 'Sensient Technologies Corporation',\n",
       " 'linkedin_link': 'https://www.linkedin.com/in/michelsalles/',\n",
       " 'contacted_in': '2020-08-23T19:18:30.446511+02:00'}"
      ]
     },
     "execution_count": 38,
     "metadata": {},
     "output_type": "execute_result"
    }
   ],
   "source": [
    "lb.get_data()"
   ]
  },
  {
   "cell_type": "code",
   "execution_count": 45,
   "metadata": {},
   "outputs": [
    {
     "name": "stdout",
     "output_type": "stream",
     "text": [
      "https://www.linkedin.com/company/sensient/people/\n",
      "https://www.linkedin.com/in/gianleocata/\n",
      "oui/non\n",
      "oui\n",
      "{'name': 'Gian Carlo Leocata', 'country': 'Mexico', 'job_position': 'Technical Consultant', 'company': 'Sensient Technologies Corporation', 'linkedin_link': 'https://www.linkedin.com/in/gianleocata/', 'contacted_in': '2020-08-23T19:29:23.920516+02:00'}\n",
      "True\n",
      "https://www.linkedin.com/in/yan-hao-1244b7a/\n",
      "oui/non\n",
      "ssssssssssssss\n"
     ]
    },
    {
     "ename": "KeyboardInterrupt",
     "evalue": "",
     "output_type": "error",
     "traceback": [
      "\u001b[1;31m---------------------------------------------------------------------------\u001b[0m",
      "\u001b[1;31mTypeError\u001b[0m                                 Traceback (most recent call last)",
      "\u001b[1;32m~\\Anaconda3\\lib\\site-packages\\urllib3\\connectionpool.py\u001b[0m in \u001b[0;36m_make_request\u001b[1;34m(self, conn, method, url, timeout, chunked, **httplib_request_kw)\u001b[0m\n\u001b[0;32m    376\u001b[0m             \u001b[1;32mtry\u001b[0m\u001b[1;33m:\u001b[0m  \u001b[1;31m# Python 2.7, use buffering of HTTP responses\u001b[0m\u001b[1;33m\u001b[0m\u001b[1;33m\u001b[0m\u001b[0m\n\u001b[1;32m--> 377\u001b[1;33m                 \u001b[0mhttplib_response\u001b[0m \u001b[1;33m=\u001b[0m \u001b[0mconn\u001b[0m\u001b[1;33m.\u001b[0m\u001b[0mgetresponse\u001b[0m\u001b[1;33m(\u001b[0m\u001b[0mbuffering\u001b[0m\u001b[1;33m=\u001b[0m\u001b[1;32mTrue\u001b[0m\u001b[1;33m)\u001b[0m\u001b[1;33m\u001b[0m\u001b[1;33m\u001b[0m\u001b[0m\n\u001b[0m\u001b[0;32m    378\u001b[0m             \u001b[1;32mexcept\u001b[0m \u001b[0mTypeError\u001b[0m\u001b[1;33m:\u001b[0m  \u001b[1;31m# Python 3\u001b[0m\u001b[1;33m\u001b[0m\u001b[1;33m\u001b[0m\u001b[0m\n",
      "\u001b[1;31mTypeError\u001b[0m: getresponse() got an unexpected keyword argument 'buffering'",
      "\nDuring handling of the above exception, another exception occurred:\n",
      "\u001b[1;31mKeyboardInterrupt\u001b[0m                         Traceback (most recent call last)",
      "\u001b[1;32m<ipython-input-45-4ea8fdcf342d>\u001b[0m in \u001b[0;36m<module>\u001b[1;34m\u001b[0m\n\u001b[1;32m----> 1\u001b[1;33m \u001b[0mlb\u001b[0m\u001b[1;33m.\u001b[0m\u001b[0msend_message_to_profiles\u001b[0m\u001b[1;33m(\u001b[0m\u001b[1;33m)\u001b[0m\u001b[1;33m\u001b[0m\u001b[1;33m\u001b[0m\u001b[0m\n\u001b[0m",
      "\u001b[1;32m<ipython-input-36-29cc1e2ac20b>\u001b[0m in \u001b[0;36msend_message_to_profiles\u001b[1;34m(self)\u001b[0m\n\u001b[0;32m    228\u001b[0m                     \u001b[0mself\u001b[0m\u001b[1;33m.\u001b[0m\u001b[0mscrap_profile_and_send_message\u001b[0m\u001b[1;33m(\u001b[0m\u001b[1;33m)\u001b[0m\u001b[1;33m\u001b[0m\u001b[1;33m\u001b[0m\u001b[0m\n\u001b[0;32m    229\u001b[0m                 \u001b[1;32melse\u001b[0m\u001b[1;33m:\u001b[0m\u001b[1;33m\u001b[0m\u001b[1;33m\u001b[0m\u001b[0m\n\u001b[1;32m--> 230\u001b[1;33m                     \u001b[0mself\u001b[0m\u001b[1;33m.\u001b[0m\u001b[0mdriver\u001b[0m\u001b[1;33m.\u001b[0m\u001b[0mclose\u001b[0m\u001b[1;33m(\u001b[0m\u001b[1;33m)\u001b[0m\u001b[1;33m\u001b[0m\u001b[1;33m\u001b[0m\u001b[0m\n\u001b[0m\u001b[0;32m    231\u001b[0m \u001b[1;33m\u001b[0m\u001b[0m\n\u001b[0;32m    232\u001b[0m     \u001b[1;32mdef\u001b[0m \u001b[0mrun\u001b[0m\u001b[1;33m(\u001b[0m\u001b[0mself\u001b[0m\u001b[1;33m)\u001b[0m\u001b[1;33m:\u001b[0m\u001b[1;33m\u001b[0m\u001b[1;33m\u001b[0m\u001b[0m\n",
      "\u001b[1;32m~\\Anaconda3\\lib\\site-packages\\selenium\\webdriver\\remote\\webdriver.py\u001b[0m in \u001b[0;36mclose\u001b[1;34m(self)\u001b[0m\n\u001b[0;32m    686\u001b[0m             \u001b[0mdriver\u001b[0m\u001b[1;33m.\u001b[0m\u001b[0mclose\u001b[0m\u001b[1;33m(\u001b[0m\u001b[1;33m)\u001b[0m\u001b[1;33m\u001b[0m\u001b[1;33m\u001b[0m\u001b[0m\n\u001b[0;32m    687\u001b[0m         \"\"\"\n\u001b[1;32m--> 688\u001b[1;33m         \u001b[0mself\u001b[0m\u001b[1;33m.\u001b[0m\u001b[0mexecute\u001b[0m\u001b[1;33m(\u001b[0m\u001b[0mCommand\u001b[0m\u001b[1;33m.\u001b[0m\u001b[0mCLOSE\u001b[0m\u001b[1;33m)\u001b[0m\u001b[1;33m\u001b[0m\u001b[1;33m\u001b[0m\u001b[0m\n\u001b[0m\u001b[0;32m    689\u001b[0m \u001b[1;33m\u001b[0m\u001b[0m\n\u001b[0;32m    690\u001b[0m     \u001b[1;32mdef\u001b[0m \u001b[0mquit\u001b[0m\u001b[1;33m(\u001b[0m\u001b[0mself\u001b[0m\u001b[1;33m)\u001b[0m\u001b[1;33m:\u001b[0m\u001b[1;33m\u001b[0m\u001b[1;33m\u001b[0m\u001b[0m\n",
      "\u001b[1;32m~\\Anaconda3\\lib\\site-packages\\selenium\\webdriver\\remote\\webdriver.py\u001b[0m in \u001b[0;36mexecute\u001b[1;34m(self, driver_command, params)\u001b[0m\n\u001b[0;32m    317\u001b[0m \u001b[1;33m\u001b[0m\u001b[0m\n\u001b[0;32m    318\u001b[0m         \u001b[0mparams\u001b[0m \u001b[1;33m=\u001b[0m \u001b[0mself\u001b[0m\u001b[1;33m.\u001b[0m\u001b[0m_wrap_value\u001b[0m\u001b[1;33m(\u001b[0m\u001b[0mparams\u001b[0m\u001b[1;33m)\u001b[0m\u001b[1;33m\u001b[0m\u001b[1;33m\u001b[0m\u001b[0m\n\u001b[1;32m--> 319\u001b[1;33m         \u001b[0mresponse\u001b[0m \u001b[1;33m=\u001b[0m \u001b[0mself\u001b[0m\u001b[1;33m.\u001b[0m\u001b[0mcommand_executor\u001b[0m\u001b[1;33m.\u001b[0m\u001b[0mexecute\u001b[0m\u001b[1;33m(\u001b[0m\u001b[0mdriver_command\u001b[0m\u001b[1;33m,\u001b[0m \u001b[0mparams\u001b[0m\u001b[1;33m)\u001b[0m\u001b[1;33m\u001b[0m\u001b[1;33m\u001b[0m\u001b[0m\n\u001b[0m\u001b[0;32m    320\u001b[0m         \u001b[1;32mif\u001b[0m \u001b[0mresponse\u001b[0m\u001b[1;33m:\u001b[0m\u001b[1;33m\u001b[0m\u001b[1;33m\u001b[0m\u001b[0m\n\u001b[0;32m    321\u001b[0m             \u001b[0mself\u001b[0m\u001b[1;33m.\u001b[0m\u001b[0merror_handler\u001b[0m\u001b[1;33m.\u001b[0m\u001b[0mcheck_response\u001b[0m\u001b[1;33m(\u001b[0m\u001b[0mresponse\u001b[0m\u001b[1;33m)\u001b[0m\u001b[1;33m\u001b[0m\u001b[1;33m\u001b[0m\u001b[0m\n",
      "\u001b[1;32m~\\Anaconda3\\lib\\site-packages\\selenium\\webdriver\\remote\\remote_connection.py\u001b[0m in \u001b[0;36mexecute\u001b[1;34m(self, command, params)\u001b[0m\n\u001b[0;32m    372\u001b[0m         \u001b[0mdata\u001b[0m \u001b[1;33m=\u001b[0m \u001b[0mutils\u001b[0m\u001b[1;33m.\u001b[0m\u001b[0mdump_json\u001b[0m\u001b[1;33m(\u001b[0m\u001b[0mparams\u001b[0m\u001b[1;33m)\u001b[0m\u001b[1;33m\u001b[0m\u001b[1;33m\u001b[0m\u001b[0m\n\u001b[0;32m    373\u001b[0m         \u001b[0murl\u001b[0m \u001b[1;33m=\u001b[0m \u001b[1;34m'%s%s'\u001b[0m \u001b[1;33m%\u001b[0m \u001b[1;33m(\u001b[0m\u001b[0mself\u001b[0m\u001b[1;33m.\u001b[0m\u001b[0m_url\u001b[0m\u001b[1;33m,\u001b[0m \u001b[0mpath\u001b[0m\u001b[1;33m)\u001b[0m\u001b[1;33m\u001b[0m\u001b[1;33m\u001b[0m\u001b[0m\n\u001b[1;32m--> 374\u001b[1;33m         \u001b[1;32mreturn\u001b[0m \u001b[0mself\u001b[0m\u001b[1;33m.\u001b[0m\u001b[0m_request\u001b[0m\u001b[1;33m(\u001b[0m\u001b[0mcommand_info\u001b[0m\u001b[1;33m[\u001b[0m\u001b[1;36m0\u001b[0m\u001b[1;33m]\u001b[0m\u001b[1;33m,\u001b[0m \u001b[0murl\u001b[0m\u001b[1;33m,\u001b[0m \u001b[0mbody\u001b[0m\u001b[1;33m=\u001b[0m\u001b[0mdata\u001b[0m\u001b[1;33m)\u001b[0m\u001b[1;33m\u001b[0m\u001b[1;33m\u001b[0m\u001b[0m\n\u001b[0m\u001b[0;32m    375\u001b[0m \u001b[1;33m\u001b[0m\u001b[0m\n\u001b[0;32m    376\u001b[0m     \u001b[1;32mdef\u001b[0m \u001b[0m_request\u001b[0m\u001b[1;33m(\u001b[0m\u001b[0mself\u001b[0m\u001b[1;33m,\u001b[0m \u001b[0mmethod\u001b[0m\u001b[1;33m,\u001b[0m \u001b[0murl\u001b[0m\u001b[1;33m,\u001b[0m \u001b[0mbody\u001b[0m\u001b[1;33m=\u001b[0m\u001b[1;32mNone\u001b[0m\u001b[1;33m)\u001b[0m\u001b[1;33m:\u001b[0m\u001b[1;33m\u001b[0m\u001b[1;33m\u001b[0m\u001b[0m\n",
      "\u001b[1;32m~\\Anaconda3\\lib\\site-packages\\selenium\\webdriver\\remote\\remote_connection.py\u001b[0m in \u001b[0;36m_request\u001b[1;34m(self, method, url, body)\u001b[0m\n\u001b[0;32m    395\u001b[0m \u001b[1;33m\u001b[0m\u001b[0m\n\u001b[0;32m    396\u001b[0m         \u001b[1;32mif\u001b[0m \u001b[0mself\u001b[0m\u001b[1;33m.\u001b[0m\u001b[0mkeep_alive\u001b[0m\u001b[1;33m:\u001b[0m\u001b[1;33m\u001b[0m\u001b[1;33m\u001b[0m\u001b[0m\n\u001b[1;32m--> 397\u001b[1;33m             \u001b[0mresp\u001b[0m \u001b[1;33m=\u001b[0m \u001b[0mself\u001b[0m\u001b[1;33m.\u001b[0m\u001b[0m_conn\u001b[0m\u001b[1;33m.\u001b[0m\u001b[0mrequest\u001b[0m\u001b[1;33m(\u001b[0m\u001b[0mmethod\u001b[0m\u001b[1;33m,\u001b[0m \u001b[0murl\u001b[0m\u001b[1;33m,\u001b[0m \u001b[0mbody\u001b[0m\u001b[1;33m=\u001b[0m\u001b[0mbody\u001b[0m\u001b[1;33m,\u001b[0m \u001b[0mheaders\u001b[0m\u001b[1;33m=\u001b[0m\u001b[0mheaders\u001b[0m\u001b[1;33m)\u001b[0m\u001b[1;33m\u001b[0m\u001b[1;33m\u001b[0m\u001b[0m\n\u001b[0m\u001b[0;32m    398\u001b[0m \u001b[1;33m\u001b[0m\u001b[0m\n\u001b[0;32m    399\u001b[0m             \u001b[0mstatuscode\u001b[0m \u001b[1;33m=\u001b[0m \u001b[0mresp\u001b[0m\u001b[1;33m.\u001b[0m\u001b[0mstatus\u001b[0m\u001b[1;33m\u001b[0m\u001b[1;33m\u001b[0m\u001b[0m\n",
      "\u001b[1;32m~\\Anaconda3\\lib\\site-packages\\urllib3\\request.py\u001b[0m in \u001b[0;36mrequest\u001b[1;34m(self, method, url, fields, headers, **urlopen_kw)\u001b[0m\n\u001b[0;32m     66\u001b[0m             return self.request_encode_url(method, url, fields=fields,\n\u001b[0;32m     67\u001b[0m                                            \u001b[0mheaders\u001b[0m\u001b[1;33m=\u001b[0m\u001b[0mheaders\u001b[0m\u001b[1;33m,\u001b[0m\u001b[1;33m\u001b[0m\u001b[1;33m\u001b[0m\u001b[0m\n\u001b[1;32m---> 68\u001b[1;33m                                            **urlopen_kw)\n\u001b[0m\u001b[0;32m     69\u001b[0m         \u001b[1;32melse\u001b[0m\u001b[1;33m:\u001b[0m\u001b[1;33m\u001b[0m\u001b[1;33m\u001b[0m\u001b[0m\n\u001b[0;32m     70\u001b[0m             return self.request_encode_body(method, url, fields=fields,\n",
      "\u001b[1;32m~\\Anaconda3\\lib\\site-packages\\urllib3\\request.py\u001b[0m in \u001b[0;36mrequest_encode_url\u001b[1;34m(self, method, url, fields, headers, **urlopen_kw)\u001b[0m\n\u001b[0;32m     87\u001b[0m             \u001b[0murl\u001b[0m \u001b[1;33m+=\u001b[0m \u001b[1;34m'?'\u001b[0m \u001b[1;33m+\u001b[0m \u001b[0murlencode\u001b[0m\u001b[1;33m(\u001b[0m\u001b[0mfields\u001b[0m\u001b[1;33m)\u001b[0m\u001b[1;33m\u001b[0m\u001b[1;33m\u001b[0m\u001b[0m\n\u001b[0;32m     88\u001b[0m \u001b[1;33m\u001b[0m\u001b[0m\n\u001b[1;32m---> 89\u001b[1;33m         \u001b[1;32mreturn\u001b[0m \u001b[0mself\u001b[0m\u001b[1;33m.\u001b[0m\u001b[0murlopen\u001b[0m\u001b[1;33m(\u001b[0m\u001b[0mmethod\u001b[0m\u001b[1;33m,\u001b[0m \u001b[0murl\u001b[0m\u001b[1;33m,\u001b[0m \u001b[1;33m**\u001b[0m\u001b[0mextra_kw\u001b[0m\u001b[1;33m)\u001b[0m\u001b[1;33m\u001b[0m\u001b[1;33m\u001b[0m\u001b[0m\n\u001b[0m\u001b[0;32m     90\u001b[0m \u001b[1;33m\u001b[0m\u001b[0m\n\u001b[0;32m     91\u001b[0m     def request_encode_body(self, method, url, fields=None, headers=None,\n",
      "\u001b[1;32m~\\Anaconda3\\lib\\site-packages\\urllib3\\poolmanager.py\u001b[0m in \u001b[0;36murlopen\u001b[1;34m(self, method, url, redirect, **kw)\u001b[0m\n\u001b[0;32m    322\u001b[0m             \u001b[0mresponse\u001b[0m \u001b[1;33m=\u001b[0m \u001b[0mconn\u001b[0m\u001b[1;33m.\u001b[0m\u001b[0murlopen\u001b[0m\u001b[1;33m(\u001b[0m\u001b[0mmethod\u001b[0m\u001b[1;33m,\u001b[0m \u001b[0murl\u001b[0m\u001b[1;33m,\u001b[0m \u001b[1;33m**\u001b[0m\u001b[0mkw\u001b[0m\u001b[1;33m)\u001b[0m\u001b[1;33m\u001b[0m\u001b[1;33m\u001b[0m\u001b[0m\n\u001b[0;32m    323\u001b[0m         \u001b[1;32melse\u001b[0m\u001b[1;33m:\u001b[0m\u001b[1;33m\u001b[0m\u001b[1;33m\u001b[0m\u001b[0m\n\u001b[1;32m--> 324\u001b[1;33m             \u001b[0mresponse\u001b[0m \u001b[1;33m=\u001b[0m \u001b[0mconn\u001b[0m\u001b[1;33m.\u001b[0m\u001b[0murlopen\u001b[0m\u001b[1;33m(\u001b[0m\u001b[0mmethod\u001b[0m\u001b[1;33m,\u001b[0m \u001b[0mu\u001b[0m\u001b[1;33m.\u001b[0m\u001b[0mrequest_uri\u001b[0m\u001b[1;33m,\u001b[0m \u001b[1;33m**\u001b[0m\u001b[0mkw\u001b[0m\u001b[1;33m)\u001b[0m\u001b[1;33m\u001b[0m\u001b[1;33m\u001b[0m\u001b[0m\n\u001b[0m\u001b[0;32m    325\u001b[0m \u001b[1;33m\u001b[0m\u001b[0m\n\u001b[0;32m    326\u001b[0m         \u001b[0mredirect_location\u001b[0m \u001b[1;33m=\u001b[0m \u001b[0mredirect\u001b[0m \u001b[1;32mand\u001b[0m \u001b[0mresponse\u001b[0m\u001b[1;33m.\u001b[0m\u001b[0mget_redirect_location\u001b[0m\u001b[1;33m(\u001b[0m\u001b[1;33m)\u001b[0m\u001b[1;33m\u001b[0m\u001b[1;33m\u001b[0m\u001b[0m\n",
      "\u001b[1;32m~\\Anaconda3\\lib\\site-packages\\urllib3\\connectionpool.py\u001b[0m in \u001b[0;36murlopen\u001b[1;34m(self, method, url, body, headers, retries, redirect, assert_same_host, timeout, pool_timeout, release_conn, chunked, body_pos, **response_kw)\u001b[0m\n\u001b[0;32m    598\u001b[0m                                                   \u001b[0mtimeout\u001b[0m\u001b[1;33m=\u001b[0m\u001b[0mtimeout_obj\u001b[0m\u001b[1;33m,\u001b[0m\u001b[1;33m\u001b[0m\u001b[1;33m\u001b[0m\u001b[0m\n\u001b[0;32m    599\u001b[0m                                                   \u001b[0mbody\u001b[0m\u001b[1;33m=\u001b[0m\u001b[0mbody\u001b[0m\u001b[1;33m,\u001b[0m \u001b[0mheaders\u001b[0m\u001b[1;33m=\u001b[0m\u001b[0mheaders\u001b[0m\u001b[1;33m,\u001b[0m\u001b[1;33m\u001b[0m\u001b[1;33m\u001b[0m\u001b[0m\n\u001b[1;32m--> 600\u001b[1;33m                                                   chunked=chunked)\n\u001b[0m\u001b[0;32m    601\u001b[0m \u001b[1;33m\u001b[0m\u001b[0m\n\u001b[0;32m    602\u001b[0m             \u001b[1;31m# If we're going to release the connection in ``finally:``, then\u001b[0m\u001b[1;33m\u001b[0m\u001b[1;33m\u001b[0m\u001b[1;33m\u001b[0m\u001b[0m\n",
      "\u001b[1;32m~\\Anaconda3\\lib\\site-packages\\urllib3\\connectionpool.py\u001b[0m in \u001b[0;36m_make_request\u001b[1;34m(self, conn, method, url, timeout, chunked, **httplib_request_kw)\u001b[0m\n\u001b[0;32m    378\u001b[0m             \u001b[1;32mexcept\u001b[0m \u001b[0mTypeError\u001b[0m\u001b[1;33m:\u001b[0m  \u001b[1;31m# Python 3\u001b[0m\u001b[1;33m\u001b[0m\u001b[1;33m\u001b[0m\u001b[0m\n\u001b[0;32m    379\u001b[0m                 \u001b[1;32mtry\u001b[0m\u001b[1;33m:\u001b[0m\u001b[1;33m\u001b[0m\u001b[1;33m\u001b[0m\u001b[0m\n\u001b[1;32m--> 380\u001b[1;33m                     \u001b[0mhttplib_response\u001b[0m \u001b[1;33m=\u001b[0m \u001b[0mconn\u001b[0m\u001b[1;33m.\u001b[0m\u001b[0mgetresponse\u001b[0m\u001b[1;33m(\u001b[0m\u001b[1;33m)\u001b[0m\u001b[1;33m\u001b[0m\u001b[1;33m\u001b[0m\u001b[0m\n\u001b[0m\u001b[0;32m    381\u001b[0m                 \u001b[1;32mexcept\u001b[0m \u001b[0mException\u001b[0m \u001b[1;32mas\u001b[0m \u001b[0me\u001b[0m\u001b[1;33m:\u001b[0m\u001b[1;33m\u001b[0m\u001b[1;33m\u001b[0m\u001b[0m\n\u001b[0;32m    382\u001b[0m                     \u001b[1;31m# Remove the TypeError from the exception chain in Python 3;\u001b[0m\u001b[1;33m\u001b[0m\u001b[1;33m\u001b[0m\u001b[1;33m\u001b[0m\u001b[0m\n",
      "\u001b[1;32m~\\Anaconda3\\lib\\http\\client.py\u001b[0m in \u001b[0;36mgetresponse\u001b[1;34m(self)\u001b[0m\n\u001b[0;32m   1334\u001b[0m         \u001b[1;32mtry\u001b[0m\u001b[1;33m:\u001b[0m\u001b[1;33m\u001b[0m\u001b[1;33m\u001b[0m\u001b[0m\n\u001b[0;32m   1335\u001b[0m             \u001b[1;32mtry\u001b[0m\u001b[1;33m:\u001b[0m\u001b[1;33m\u001b[0m\u001b[1;33m\u001b[0m\u001b[0m\n\u001b[1;32m-> 1336\u001b[1;33m                 \u001b[0mresponse\u001b[0m\u001b[1;33m.\u001b[0m\u001b[0mbegin\u001b[0m\u001b[1;33m(\u001b[0m\u001b[1;33m)\u001b[0m\u001b[1;33m\u001b[0m\u001b[1;33m\u001b[0m\u001b[0m\n\u001b[0m\u001b[0;32m   1337\u001b[0m             \u001b[1;32mexcept\u001b[0m \u001b[0mConnectionError\u001b[0m\u001b[1;33m:\u001b[0m\u001b[1;33m\u001b[0m\u001b[1;33m\u001b[0m\u001b[0m\n\u001b[0;32m   1338\u001b[0m                 \u001b[0mself\u001b[0m\u001b[1;33m.\u001b[0m\u001b[0mclose\u001b[0m\u001b[1;33m(\u001b[0m\u001b[1;33m)\u001b[0m\u001b[1;33m\u001b[0m\u001b[1;33m\u001b[0m\u001b[0m\n",
      "\u001b[1;32m~\\Anaconda3\\lib\\http\\client.py\u001b[0m in \u001b[0;36mbegin\u001b[1;34m(self)\u001b[0m\n\u001b[0;32m    304\u001b[0m         \u001b[1;31m# read until we get a non-100 response\u001b[0m\u001b[1;33m\u001b[0m\u001b[1;33m\u001b[0m\u001b[1;33m\u001b[0m\u001b[0m\n\u001b[0;32m    305\u001b[0m         \u001b[1;32mwhile\u001b[0m \u001b[1;32mTrue\u001b[0m\u001b[1;33m:\u001b[0m\u001b[1;33m\u001b[0m\u001b[1;33m\u001b[0m\u001b[0m\n\u001b[1;32m--> 306\u001b[1;33m             \u001b[0mversion\u001b[0m\u001b[1;33m,\u001b[0m \u001b[0mstatus\u001b[0m\u001b[1;33m,\u001b[0m \u001b[0mreason\u001b[0m \u001b[1;33m=\u001b[0m \u001b[0mself\u001b[0m\u001b[1;33m.\u001b[0m\u001b[0m_read_status\u001b[0m\u001b[1;33m(\u001b[0m\u001b[1;33m)\u001b[0m\u001b[1;33m\u001b[0m\u001b[1;33m\u001b[0m\u001b[0m\n\u001b[0m\u001b[0;32m    307\u001b[0m             \u001b[1;32mif\u001b[0m \u001b[0mstatus\u001b[0m \u001b[1;33m!=\u001b[0m \u001b[0mCONTINUE\u001b[0m\u001b[1;33m:\u001b[0m\u001b[1;33m\u001b[0m\u001b[1;33m\u001b[0m\u001b[0m\n\u001b[0;32m    308\u001b[0m                 \u001b[1;32mbreak\u001b[0m\u001b[1;33m\u001b[0m\u001b[1;33m\u001b[0m\u001b[0m\n",
      "\u001b[1;32m~\\Anaconda3\\lib\\http\\client.py\u001b[0m in \u001b[0;36m_read_status\u001b[1;34m(self)\u001b[0m\n\u001b[0;32m    265\u001b[0m \u001b[1;33m\u001b[0m\u001b[0m\n\u001b[0;32m    266\u001b[0m     \u001b[1;32mdef\u001b[0m \u001b[0m_read_status\u001b[0m\u001b[1;33m(\u001b[0m\u001b[0mself\u001b[0m\u001b[1;33m)\u001b[0m\u001b[1;33m:\u001b[0m\u001b[1;33m\u001b[0m\u001b[1;33m\u001b[0m\u001b[0m\n\u001b[1;32m--> 267\u001b[1;33m         \u001b[0mline\u001b[0m \u001b[1;33m=\u001b[0m \u001b[0mstr\u001b[0m\u001b[1;33m(\u001b[0m\u001b[0mself\u001b[0m\u001b[1;33m.\u001b[0m\u001b[0mfp\u001b[0m\u001b[1;33m.\u001b[0m\u001b[0mreadline\u001b[0m\u001b[1;33m(\u001b[0m\u001b[0m_MAXLINE\u001b[0m \u001b[1;33m+\u001b[0m \u001b[1;36m1\u001b[0m\u001b[1;33m)\u001b[0m\u001b[1;33m,\u001b[0m \u001b[1;34m\"iso-8859-1\"\u001b[0m\u001b[1;33m)\u001b[0m\u001b[1;33m\u001b[0m\u001b[1;33m\u001b[0m\u001b[0m\n\u001b[0m\u001b[0;32m    268\u001b[0m         \u001b[1;32mif\u001b[0m \u001b[0mlen\u001b[0m\u001b[1;33m(\u001b[0m\u001b[0mline\u001b[0m\u001b[1;33m)\u001b[0m \u001b[1;33m>\u001b[0m \u001b[0m_MAXLINE\u001b[0m\u001b[1;33m:\u001b[0m\u001b[1;33m\u001b[0m\u001b[1;33m\u001b[0m\u001b[0m\n\u001b[0;32m    269\u001b[0m             \u001b[1;32mraise\u001b[0m \u001b[0mLineTooLong\u001b[0m\u001b[1;33m(\u001b[0m\u001b[1;34m\"status line\"\u001b[0m\u001b[1;33m)\u001b[0m\u001b[1;33m\u001b[0m\u001b[1;33m\u001b[0m\u001b[0m\n",
      "\u001b[1;32m~\\Anaconda3\\lib\\socket.py\u001b[0m in \u001b[0;36mreadinto\u001b[1;34m(self, b)\u001b[0m\n\u001b[0;32m    587\u001b[0m         \u001b[1;32mwhile\u001b[0m \u001b[1;32mTrue\u001b[0m\u001b[1;33m:\u001b[0m\u001b[1;33m\u001b[0m\u001b[1;33m\u001b[0m\u001b[0m\n\u001b[0;32m    588\u001b[0m             \u001b[1;32mtry\u001b[0m\u001b[1;33m:\u001b[0m\u001b[1;33m\u001b[0m\u001b[1;33m\u001b[0m\u001b[0m\n\u001b[1;32m--> 589\u001b[1;33m                 \u001b[1;32mreturn\u001b[0m \u001b[0mself\u001b[0m\u001b[1;33m.\u001b[0m\u001b[0m_sock\u001b[0m\u001b[1;33m.\u001b[0m\u001b[0mrecv_into\u001b[0m\u001b[1;33m(\u001b[0m\u001b[0mb\u001b[0m\u001b[1;33m)\u001b[0m\u001b[1;33m\u001b[0m\u001b[1;33m\u001b[0m\u001b[0m\n\u001b[0m\u001b[0;32m    590\u001b[0m             \u001b[1;32mexcept\u001b[0m \u001b[0mtimeout\u001b[0m\u001b[1;33m:\u001b[0m\u001b[1;33m\u001b[0m\u001b[1;33m\u001b[0m\u001b[0m\n\u001b[0;32m    591\u001b[0m                 \u001b[0mself\u001b[0m\u001b[1;33m.\u001b[0m\u001b[0m_timeout_occurred\u001b[0m \u001b[1;33m=\u001b[0m \u001b[1;32mTrue\u001b[0m\u001b[1;33m\u001b[0m\u001b[1;33m\u001b[0m\u001b[0m\n",
      "\u001b[1;31mKeyboardInterrupt\u001b[0m: "
     ]
    }
   ],
   "source": [
    "lb.send_message_to_profiles()"
   ]
  },
  {
   "cell_type": "code",
   "execution_count": null,
   "metadata": {},
   "outputs": [],
   "source": []
  }
 ],
 "metadata": {
  "kernelspec": {
   "display_name": "Python 3",
   "language": "python",
   "name": "python3"
  },
  "language_info": {
   "codemirror_mode": {
    "name": "ipython",
    "version": 3
   },
   "file_extension": ".py",
   "mimetype": "text/x-python",
   "name": "python",
   "nbconvert_exporter": "python",
   "pygments_lexer": "ipython3",
   "version": "3.7.4"
  }
 },
 "nbformat": 4,
 "nbformat_minor": 2
}
